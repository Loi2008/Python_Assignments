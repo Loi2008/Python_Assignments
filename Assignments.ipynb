{
 "cells": [
  {
   "cell_type": "markdown",
   "id": "d29760b6",
   "metadata": {},
   "source": [
    "#### 1. Using list comprehension to generate prime numbers"
   ]
  },
  {
   "cell_type": "code",
   "execution_count": 19,
   "id": "4d3515a4",
   "metadata": {},
   "outputs": [],
   "source": [
    "#Defining the function\n",
    "def first_n_primes(n):\n",
    "    # prime_nums - hold the list of prime numbers\n",
    "    prime_nums = []\n",
    "    # num is the current number being checked - starting from 2 (the first prime).\n",
    "    num = 2  \n",
    "    #Using while loop to check the number\n",
    "    while len(prime_nums) < n:\n",
    "        # using list comprehension to check if num is a prime number\n",
    "        if all(num % i != 0 for i in range(2, int(num**0.5) + 1)):\n",
    "            prime_nums.append(num)\n",
    "        #increament the number\n",
    "        num += 1\n",
    "    return prime_nums\n",
    "\n"
   ]
  },
  {
   "cell_type": "code",
   "execution_count": null,
   "id": "40eb54b3",
   "metadata": {},
   "outputs": [
    {
     "data": {
      "text/plain": [
       "'The first 50 prime numbers are: [2, 3, 5, 7, 11, 13, 17, 19, 23, 29, 31, 37, 41, 43, 47, 53, 59, 61, 67, 71, 73, 79, 83, 89, 97, 101, 103, 107, 109, 113, 127, 131, 137, 139, 149, 151, 157, 163, 167, 173, 179, 181, 191, 193, 197, 199, 211, 223, 227, 229]'"
      ]
     },
     "execution_count": 18,
     "metadata": {},
     "output_type": "execute_result"
    }
   ],
   "source": [
    "#Application of the prime number generation function\n",
    "N = 50\n",
    "prime_numbers = first_n_primes(N)\n",
    "prime_numbers \n",
    "f\"The first {N} prime numbers are: {prime_numbers}\"\n"
   ]
  },
  {
   "cell_type": "markdown",
   "id": "cc987e24",
   "metadata": {},
   "source": [
    "#### 2. write a function to check whether a number is even or odd"
   ]
  },
  {
   "cell_type": "code",
   "execution_count": 9,
   "id": "ecc7d131",
   "metadata": {},
   "outputs": [],
   "source": [
    "# 2a. Using a normal function\n",
    "# defining the function\n",
    "def check_even_odd_list(numbers):\n",
    "    results = []\n",
    "    for n in numbers:\n",
    "        if n % 2 == 0:\n",
    "            results.append(f\"{n} is Even\")\n",
    "        else:\n",
    "            results.append(f\"{n} is Odd\")\n",
    "    return results"
   ]
  },
  {
   "cell_type": "code",
   "execution_count": 10,
   "id": "bcf35bce",
   "metadata": {},
   "outputs": [
    {
     "data": {
      "text/plain": [
       "['1 is Odd',\n",
       " '2 is Even',\n",
       " '3 is Odd',\n",
       " '10 is Even',\n",
       " '15 is Odd',\n",
       " '20 is Even',\n",
       " '25 is Odd',\n",
       " '27 is Odd',\n",
       " '35 is Odd',\n",
       " '39 is Odd',\n",
       " '50 is Even']"
      ]
     },
     "execution_count": 10,
     "metadata": {},
     "output_type": "execute_result"
    }
   ],
   "source": [
    "# Call the function\n",
    "nums = [1, 2, 3, 10, 15,20,25,27,35,39,50]\n",
    "check_even_odd_list(nums)"
   ]
  },
  {
   "cell_type": "code",
   "execution_count": 7,
   "id": "29bc6241",
   "metadata": {},
   "outputs": [],
   "source": [
    "# 2b. Using lambda\n",
    "check_even_odd_list_lambda = lambda numbers: [f\"{n} is Even\" if n % 2 == 0 else f\"{n} is Odd\" for n in numbers]"
   ]
  },
  {
   "cell_type": "code",
   "execution_count": 8,
   "id": "8dd06089",
   "metadata": {},
   "outputs": [
    {
     "data": {
      "text/plain": [
       "['4 is Even',\n",
       " '7 is Odd',\n",
       " '12 is Even',\n",
       " '15 is Odd',\n",
       " '28 is Even',\n",
       " '23 is Odd',\n",
       " '25 is Odd']"
      ]
     },
     "execution_count": 8,
     "metadata": {},
     "output_type": "execute_result"
    }
   ],
   "source": [
    "#Calling the function\n",
    "check_even_odd_list_lambda([4, 7, 12, 15,28,23,25])\n"
   ]
  },
  {
   "cell_type": "code",
   "execution_count": 11,
   "id": "abb71bd4",
   "metadata": {},
   "outputs": [
    {
     "data": {
      "text/html": [
       "<div>\n",
       "<style scoped>\n",
       "    .dataframe tbody tr th:only-of-type {\n",
       "        vertical-align: middle;\n",
       "    }\n",
       "\n",
       "    .dataframe tbody tr th {\n",
       "        vertical-align: top;\n",
       "    }\n",
       "\n",
       "    .dataframe thead th {\n",
       "        text-align: right;\n",
       "    }\n",
       "</style>\n",
       "<table border=\"1\" class=\"dataframe\">\n",
       "  <thead>\n",
       "    <tr style=\"text-align: right;\">\n",
       "      <th></th>\n",
       "      <th>Number</th>\n",
       "      <th>Result</th>\n",
       "    </tr>\n",
       "  </thead>\n",
       "  <tbody>\n",
       "    <tr>\n",
       "      <th>0</th>\n",
       "      <td>1</td>\n",
       "      <td>1 is Odd</td>\n",
       "    </tr>\n",
       "    <tr>\n",
       "      <th>1</th>\n",
       "      <td>2</td>\n",
       "      <td>2 is Even</td>\n",
       "    </tr>\n",
       "    <tr>\n",
       "      <th>2</th>\n",
       "      <td>3</td>\n",
       "      <td>3 is Odd</td>\n",
       "    </tr>\n",
       "    <tr>\n",
       "      <th>3</th>\n",
       "      <td>10</td>\n",
       "      <td>10 is Even</td>\n",
       "    </tr>\n",
       "    <tr>\n",
       "      <th>4</th>\n",
       "      <td>15</td>\n",
       "      <td>15 is Odd</td>\n",
       "    </tr>\n",
       "    <tr>\n",
       "      <th>5</th>\n",
       "      <td>20</td>\n",
       "      <td>20 is Even</td>\n",
       "    </tr>\n",
       "    <tr>\n",
       "      <th>6</th>\n",
       "      <td>25</td>\n",
       "      <td>25 is Odd</td>\n",
       "    </tr>\n",
       "    <tr>\n",
       "      <th>7</th>\n",
       "      <td>28</td>\n",
       "      <td>28 is Even</td>\n",
       "    </tr>\n",
       "  </tbody>\n",
       "</table>\n",
       "</div>"
      ],
      "text/plain": [
       "   Number      Result\n",
       "0       1    1 is Odd\n",
       "1       2   2 is Even\n",
       "2       3    3 is Odd\n",
       "3      10  10 is Even\n",
       "4      15   15 is Odd\n",
       "5      20  20 is Even\n",
       "6      25   25 is Odd\n",
       "7      28  28 is Even"
      ]
     },
     "execution_count": 11,
     "metadata": {},
     "output_type": "execute_result"
    }
   ],
   "source": [
    "#Using Pandas\n",
    "import pandas as pd\n",
    "\n",
    "nums = [1, 2, 3, 10, 15,20,25,28]\n",
    "pd.DataFrame({\"Number\": nums, \"Result\": check_even_odd_list_lambda(nums)})\n"
   ]
  },
  {
   "cell_type": "markdown",
   "id": "8e76f47f",
   "metadata": {},
   "source": [
    "#### 3. Creating a Chatbot that answers questions in Data Science and AI"
   ]
  },
  {
   "cell_type": "code",
   "execution_count": null,
   "id": "84dc6696",
   "metadata": {},
   "outputs": [
    {
     "name": "stdout",
     "output_type": "stream",
     "text": [
      "💡 Hello! I'm a Data Science and AI Chatbot. Ask me anything!\n",
      "💡 Type 'quit' to exit.\n",
      "💡 Chatbot will terminate if no input is given for 1 minute.\n"
     ]
    }
   ],
   "source": [
    "import threading\n",
    "\n",
    "def timed_input(prompt, timeout=60):\n",
    "    result = [None]\n",
    "\n",
    "    def get_input():\n",
    "        result[0] = input(prompt)\n",
    "\n",
    "    thread = threading.Thread(target=get_input)\n",
    "    thread.start()\n",
    "    thread.join(timeout)\n",
    "    if thread.is_alive():\n",
    "        print(f\"\\n💡 No input received in {timeout} seconds.\")\n",
    "        return None\n",
    "    return result[0]\n",
    "\n",
    "def chatbot():\n",
    "    print(\"💡 Hello! I'm a Data Science and AI Chatbot. Ask me anything!\")\n",
    "    print(\"💡 Type 'quit' to exit.\")\n",
    "    print(\"💡 Chatbot will terminate if no input is given for 1 minute.\")\n",
    "\n",
    "    message_count = 0\n",
    "\n",
    "    while True:\n",
    "        message_count += 1\n",
    "        user_input = timed_input(f\"You ({message_count}): \", timeout=60)\n",
    "\n",
    "        if not user_input:  # Timeout\n",
    "            print(\"\\n💡 Chatbot: No input received for 1 minute. Terminating...\")\n",
    "            break\n",
    "\n",
    "        user_input = user_input.lower()\n",
    "\n",
    "        if user_input == \"quit\":\n",
    "            print(\"💡 Chatbot: Goodbye! Hope to see you again.\")\n",
    "            break\n",
    "\n",
    "        # Keyword-based responses\n",
    "        if \"data science\" in user_input:\n",
    "            print(\"💡 Chatbot: Data science is an interdisciplinary field that uses scientific methods, processes, algorithms, and systems to extract knowledge and insights from data.\")\n",
    "        elif \"artificial intelligence\" in user_input or \"ai\" in user_input:\n",
    "            print(\"💡 Chatbot: Artificial intelligence (AI) is about building smart machines capable of performing tasks that typically require human intelligence.\")\n",
    "        elif \"machine learning\" in user_input:\n",
    "            print(\"💡 Chatbot: Machine learning is a subset of AI that enables systems to learn from data, identify patterns, and make decisions with minimal human intervention.\")\n",
    "        elif \"deep learning\" in user_input:\n",
    "            print(\"💡 Chatbot: Deep learning uses neural networks with many layers (deep neural networks) to learn complex patterns in data.\")\n",
    "        elif \"model\" in user_input:\n",
    "            print(\"💡 Chatbot: In data science and AI, a model is a mathematical representation of a real-world process used for predictions or classifications.\")\n",
    "        elif \"programming language\" in user_input or \"language for ai\" in user_input or \"python\" in user_input:\n",
    "            print(\"💡 Chatbot: Python is very popular for AI and data science due to libraries like TensorFlow, PyTorch, Scikit-learn, and Pandas.\")\n",
    "        elif \"big data\" in user_input:\n",
    "            print(\"💡 Chatbot: Big Data refers to extremely large data sets that can be analyzed to reveal patterns, trends, and associations.\")\n",
    "        elif \"neural network\" in user_input:\n",
    "            print(\"💡 Chatbot: A neural network is a set of algorithms modeled after the human brain that recognizes patterns in data.\")\n",
    "        else:\n",
    "            print(\"💡 Chatbot: I'm not sure I understand. Can you rephrase or ask about data science/AI topics?\")\n",
    "\n",
    "# Run it\n",
    "chatbot()"
   ]
  },
  {
   "cell_type": "markdown",
   "id": "748db2d1",
   "metadata": {},
   "source": [
    "#### 4. A code that breaks the list of fruits when you reach the 3rd fruit\n"
   ]
  },
  {
   "cell_type": "code",
   "execution_count": 17,
   "id": "b8d22b3d",
   "metadata": {},
   "outputs": [
    {
     "data": {
      "text/plain": [
       "['Processing fruit: apple',\n",
       " 'Processing fruit: banana',\n",
       " 'Processing fruit: cherry',\n",
       " 'Reached the 3rd fruit. Stop.',\n",
       " 'end of Loop.']"
      ]
     },
     "execution_count": 17,
     "metadata": {},
     "output_type": "execute_result"
    }
   ],
   "source": [
    "fruits = [\"apple\", \"banana\", \"cherry\", \"date\", \"elderberry\", \"fig\"]\n",
    "\n",
    "results = []   # store messages here\n",
    "count = 0\n",
    "\n",
    "for fruit in fruits:\n",
    "    results.append(f\"Processing fruit: {fruit}\")\n",
    "    count += 1\n",
    "    if count == 3:\n",
    "        results.append(\"Reached the 3rd fruit. Stop.\")\n",
    "        break  # exit the loop\n",
    "\n",
    "results.append(\"end of Loop.\")\n",
    "\n",
    "results   # Jupyter will display this list\n"
   ]
  },
  {
   "cell_type": "code",
   "execution_count": null,
   "id": "73c028b7",
   "metadata": {},
   "outputs": [],
   "source": [
    "#Using fucntion\n",
    "#Define the function\n",
    "def process_fruits(fruits, stop_at=3):\n",
    "    results = []\n",
    "    count = 0\n",
    "\n",
    "    for fruit in fruits:\n",
    "        results.append(f\"Processing fruit: {fruit}\")\n",
    "        count += 1\n",
    "        if count == stop_at:\n",
    "            results.append(f\"Reached the {stop_at}th fruit. Stop.\")\n",
    "            break\n",
    "    results.append(\"Loop ending.\")\n",
    "    \n",
    "    return results"
   ]
  },
  {
   "cell_type": "code",
   "execution_count": 19,
   "id": "c860f797",
   "metadata": {},
   "outputs": [
    {
     "data": {
      "text/plain": [
       "['Processing fruit: apple',\n",
       " 'Processing fruit: banana',\n",
       " 'Processing fruit: cherry',\n",
       " 'Reached the 3th fruit. Stopping.',\n",
       " 'Loop finished.']"
      ]
     },
     "execution_count": 19,
     "metadata": {},
     "output_type": "execute_result"
    }
   ],
   "source": [
    "#Calling the function\n",
    "fruits = [\"apple\", \"banana\", \"cherry\", \"date\", \"elderberry\", \"fig\"]\n",
    "\n",
    "process_fruits(fruits, stop_at=3)\n"
   ]
  },
  {
   "cell_type": "markdown",
   "id": "2e1abdae",
   "metadata": {},
   "source": [
    "#### 5. Car class with attributes brand and year, and a method display() that returns a formatted string with the details."
   ]
  },
  {
   "cell_type": "code",
   "execution_count": 21,
   "id": "78fa19cd",
   "metadata": {},
   "outputs": [],
   "source": [
    "#Defining the class Car\n",
    "class Car:\n",
    "    def __init__(self, brand, year):\n",
    "        self.brand = brand\n",
    "        self.year = year\n",
    "\n",
    "    def display(self):\n",
    "        return f\"Car Brand: {self.brand}, Year: {self.year}\"\n"
   ]
  },
  {
   "cell_type": "code",
   "execution_count": 29,
   "id": "5643abc9",
   "metadata": {},
   "outputs": [
    {
     "data": {
      "text/plain": [
       "'Car Brand: Toyota, Year: 2022'"
      ]
     },
     "execution_count": 29,
     "metadata": {},
     "output_type": "execute_result"
    }
   ],
   "source": [
    "#Calling the class Car\n",
    "my_car = Car(\"Toyota\", 2022)\n",
    "my_car.display()\n"
   ]
  },
  {
   "cell_type": "markdown",
   "id": "39481684",
   "metadata": {},
   "source": [
    "#### 6. Create a class Employee with atrributes- name and salary. Create a subclass Manager with an extra department attribute and  method to display full details."
   ]
  },
  {
   "cell_type": "code",
   "execution_count": null,
   "id": "83fa9b88",
   "metadata": {},
   "outputs": [],
   "source": [
    "# defining the class Employee\n",
    "class Employee:\n",
    "    def __init__(self, name, salary):\n",
    "        self.name = name\n",
    "        self.salary = salary\n",
    "\n",
    "    def display(self):\n",
    "        return f\"Employee Name: {self.name}, Salary: ${self.salary}\"\n",
    "\n"
   ]
  },
  {
   "cell_type": "code",
   "execution_count": 26,
   "id": "2b58ebff",
   "metadata": {},
   "outputs": [
    {
     "data": {
      "text/plain": [
       "'Employee Name: Alice, Salary: $50000'"
      ]
     },
     "execution_count": 26,
     "metadata": {},
     "output_type": "execute_result"
    }
   ],
   "source": [
    "# Create an Employee by calling the class Employee\n",
    "emp = Employee(\"Alice\", 50000)\n",
    "emp.display()\n"
   ]
  },
  {
   "cell_type": "code",
   "execution_count": null,
   "id": "eab1d632",
   "metadata": {},
   "outputs": [],
   "source": [
    "# Manager inherits from Employee\n",
    "class Manager(Employee):  \n",
    "    def __init__(self, name, salary, department):\n",
    "        \n",
    "        # call the parent constructor\n",
    "        super().__init__(name, salary)  \n",
    "        self.department = department\n",
    "\n",
    "    def display(self):\n",
    "        return f\"Manager Name: {self.name}, Salary: ${self.salary}, Department: {self.department}\""
   ]
  },
  {
   "cell_type": "code",
   "execution_count": 27,
   "id": "3b0d01a7",
   "metadata": {},
   "outputs": [
    {
     "data": {
      "text/plain": [
       "'Manager Name: Bob, Salary: $80000, Department: IT'"
      ]
     },
     "execution_count": 27,
     "metadata": {},
     "output_type": "execute_result"
    }
   ],
   "source": [
    "# Create a Manager by calling the subclass Manager\n",
    "mgr = Manager(\"Bob\", 80000, \"IT\")\n",
    "mgr.display()\n"
   ]
  }
 ],
 "metadata": {
  "kernelspec": {
   "display_name": "my_Virtual_Environment",
   "language": "python",
   "name": "python3"
  },
  "language_info": {
   "codemirror_mode": {
    "name": "ipython",
    "version": 3
   },
   "file_extension": ".py",
   "mimetype": "text/x-python",
   "name": "python",
   "nbconvert_exporter": "python",
   "pygments_lexer": "ipython3",
   "version": "3.13.5"
  }
 },
 "nbformat": 4,
 "nbformat_minor": 5
}
